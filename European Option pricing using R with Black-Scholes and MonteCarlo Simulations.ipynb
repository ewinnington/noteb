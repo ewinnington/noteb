{
 "cells": [
  {
   "cell_type": "markdown",
   "metadata": {},
   "source": [
    "# European option pricing in R \n",
    "\n",
    "Based on [Pricing of EU Options](https://www.r-bloggers.com/2020/12/pricing-of-european-options-with-monte-carlo/)"
   ]
  },
  {
   "cell_type": "markdown",
   "metadata": {},
   "source": [
    "## Black-Scholes"
   ]
  },
  {
   "cell_type": "code",
   "execution_count": 1,
   "metadata": {},
   "outputs": [
    {
     "data": {
      "text/html": "<ol class=list-inline>\n\t<li>7.28815118277163</li>\n\t<li>4.29313455768843</li>\n</ol>\n",
      "text/latex": "\\begin{enumerate*}\n\\item 7.28815118277163\n\\item 4.29313455768843\n\\end{enumerate*}\n",
      "text/markdown": "1. 7.28815118277163\n2. 4.29313455768843\n\n\n",
      "text/plain": "[1] 7.288151 4.293135"
     },
     "metadata": {},
     "output_type": "display_data"
    }
   ],
   "source": [
    "K = 100\n",
    "r = 0.02\n",
    "sigma = 0.2\n",
    "T = 0.5\n",
    "S0 = 102\n",
    "\n",
    "# call option\n",
    "d1 <- (log(S0/K) + (r + sigma^2/2) * T)/(sigma * sqrt(T))\n",
    "d2 <- d1 - sigma * sqrt(T)\n",
    "phid1 <- pnorm(d1)\n",
    "call_price <- S0 * phid1 - K * exp(-r * T) * pnorm(d2)\n",
    "\n",
    "# put option\n",
    "d1 <- (log(S0/K) + (r + sigma^2/2) * T)/(sigma * sqrt(T))\n",
    "d2 <- d1 - sigma * sqrt(T)\n",
    "phimd1 <- pnorm(-d1)\n",
    "put_price <- -S0 * phimd1 + K * exp(-r * T) * pnorm(-d2)\n",
    "\n",
    "c(call_price, put_price)"
   ]
  },
  {
   "cell_type": "markdown",
   "metadata": {},
   "source": [
    "## Monte-Carlo simulation "
   ]
  },
  {
   "cell_type": "code",
   "execution_count": 5,
   "metadata": {},
   "outputs": [
    {
     "data": {
      "text/html": [
       "<dl>\n",
       "\t<dt>$price_call</dt>\n",
       "\t\t<dd>7.29073833912655</dd>\n",
       "\t<dt>$sterr_call</dt>\n",
       "\t\t<dd>0.0101347588868935</dd>\n",
       "\t<dt>$price_put</dt>\n",
       "\t\t<dd>4.29468276035008</dd>\n",
       "\t<dt>$sterr_put</dt>\n",
       "\t\t<dd>0.00670090190916396</dd>\n",
       "</dl>\n"
      ],
      "text/latex": [
       "\\begin{description}\n",
       "\\item[\\$price\\_call] 7.29073833912655\n",
       "\\item[\\$sterr\\_call] 0.0101347588868935\n",
       "\\item[\\$price\\_put] 4.29468276035008\n",
       "\\item[\\$sterr\\_put] 0.00670090190916396\n",
       "\\end{description}\n"
      ],
      "text/markdown": [
       "$price_call\n",
       ":   7.29073833912655\n",
       "$sterr_call\n",
       ":   0.0101347588868935\n",
       "$price_put\n",
       ":   4.29468276035008\n",
       "$sterr_put\n",
       ":   0.00670090190916396\n",
       "\n",
       "\n"
      ],
      "text/plain": [
       "$price_call\n",
       "[1] 7.290738\n",
       "\n",
       "$sterr_call\n",
       "[1] 0.01013476\n",
       "\n",
       "$price_put\n",
       "[1] 4.294683\n",
       "\n",
       "$sterr_put\n",
       "[1] 0.006700902\n"
      ]
     },
     "metadata": {},
     "output_type": "display_data"
    }
   ],
   "source": [
    "# call put option monte carlo\n",
    "call_put_mc<-function(nSim=1000000, tau, r, sigma, S0, K) {\n",
    "  \n",
    "  Z <- rnorm(nSim, mean=0, sd=1)\n",
    "  WT <- sqrt(tau) * Z\n",
    "  ST = S0*exp((r - 0.5*sigma^2)*tau + sigma*WT)\n",
    "  \n",
    "  # price and standard error of call option\n",
    "  simulated_call_payoffs <- exp(-r*tau)*pmax(ST-K,0)\n",
    "  price_call <- mean(simulated_call_payoffs)\n",
    "  sterr_call <- sd(simulated_call_payoffs)/sqrt(nSim)\n",
    "  # price and standard error of put option\n",
    "  simulated_put_payoffs <- exp(-r*tau)*pmax(K-ST,0)\n",
    "  price_put <- mean(simulated_put_payoffs)\n",
    "  sterr_put <- sd(simulated_put_payoffs)/sqrt(nSim)\n",
    "  \n",
    "  output<-list(price_call=price_call, sterr_call=sterr_call, \n",
    "               price_put=price_put, sterr_put=sterr_put)\n",
    "  return(output)\n",
    "  \n",
    "}\n",
    "set.seed(1)\n",
    "results<-call_put_mc(n=1000000, tau=0.5, r=0.02, sigma=0.2, S0=102, K=100)\n",
    "results"
   ]
  },
  {
   "cell_type": "code",
   "execution_count": 6,
   "metadata": {},
   "outputs": [
    {
     "data": {
      "text/html": [
       "<dl>\n",
       "\t<dt>$price_call</dt>\n",
       "\t\t<dd>7.2901930740815</dd>\n",
       "\t<dt>$sterr_call</dt>\n",
       "\t\t<dd>0.00499340311846781</dd>\n",
       "\t<dt>$price_put</dt>\n",
       "\t\t<dd>4.29481225823472</dd>\n",
       "\t<dt>$sterr_put</dt>\n",
       "\t\t<dd>0.00363647856411944</dd>\n",
       "</dl>\n"
      ],
      "text/latex": [
       "\\begin{description}\n",
       "\\item[\\$price\\_call] 7.2901930740815\n",
       "\\item[\\$sterr\\_call] 0.00499340311846781\n",
       "\\item[\\$price\\_put] 4.29481225823472\n",
       "\\item[\\$sterr\\_put] 0.00363647856411944\n",
       "\\end{description}\n"
      ],
      "text/markdown": [
       "$price_call\n",
       ":   7.2901930740815\n",
       "$sterr_call\n",
       ":   0.00499340311846781\n",
       "$price_put\n",
       ":   4.29481225823472\n",
       "$sterr_put\n",
       ":   0.00363647856411944\n",
       "\n",
       "\n"
      ],
      "text/plain": [
       "$price_call\n",
       "[1] 7.290193\n",
       "\n",
       "$sterr_call\n",
       "[1] 0.004993403\n",
       "\n",
       "$price_put\n",
       "[1] 4.294812\n",
       "\n",
       "$sterr_put\n",
       "[1] 0.003636479\n"
      ]
     },
     "metadata": {},
     "output_type": "display_data"
    }
   ],
   "source": [
    "antithetic_call_put_mc<-function(nSim, tau, r, sigma, S0, K) {\n",
    "  \n",
    "  Z <- rnorm(nSim, mean=0, sd=1)\n",
    "  \n",
    "  WT <- sqrt(tau) * Z\n",
    "  # ST1 and ST2 and the antithetic variates\n",
    "  ST1 = (S0*exp((r - 0.5*sigma^2)*tau + sigma*WT))\n",
    "  ST2 = (S0*exp((r - 0.5*sigma^2)*tau + sigma*(-WT)))\n",
    "   \n",
    "  # call option price and standard error\n",
    "  simulated_call_payoffs1 <- exp(-r*tau)*pmax(ST1-K,0)\n",
    "  simulated_call_payoffs2 <- exp(-r*tau)*pmax(ST2-K,0)\n",
    "  # get the average\n",
    "  simulated_call_payoffs <- ( simulated_call_payoffs1 + simulated_call_payoffs2)/2\n",
    "  price_call <- mean(simulated_call_payoffs)\n",
    "  sterr_call <- sd(simulated_call_payoffs)/sqrt(nSim)\n",
    "\n",
    "  \n",
    "  # put option price and standard error\n",
    "  simulated_put_payoffs1 <- exp(-r*tau)*pmax(K-ST1,0)\n",
    "  simulated_put_payoffs2 <- exp(-r*tau)*pmax(K-ST2,0)\n",
    "  # get the average\n",
    "  simulated_put_payoffs <- (simulated_put_payoffs1+simulated_put_payoffs2)/2\n",
    "  price_put <- mean(simulated_put_payoffs)\n",
    "  sterr_put <- sd(simulated_put_payoffs)/sqrt(nSim)\n",
    "  \n",
    "  output<-list(price_call=price_call, sterr_call=sterr_call, \n",
    "               price_put=price_put, sterr_put=sterr_put )\n",
    "  return(output)\n",
    "  \n",
    "}\n",
    "\n",
    "set.seed(1)\n",
    "results<-antithetic_call_put_mc(n=1000000, tau=0.5, r=0.02, sigma=0.2, S0=102, K=100)\n",
    "\n",
    "results"
   ]
  },
  {
   "cell_type": "code",
   "execution_count": 11,
   "metadata": {},
   "outputs": [],
   "source": [
    "importance_call_put_mc<-function(nSim, tau, r, sigma, S0, K) {\n",
    "  \n",
    "  Z <- rnorm(nSim, mean=0, sd=1)\n",
    "  WT <- sqrt(tau) * Z\n",
    "  ST = S0*exp((r - 0.5*sigma^2)*tau + sigma*WT)\n",
    "  \n",
    "  # call option price and standard error\n",
    "  simulated_call_payoffs <- (exp(-r*tau)*pmax(ST-K,0))[ST>K]\n",
    "  price_call <- mean(simulated_call_payoffs*mean(ST>K))\n",
    "  sterr_call <- sd(simulated_call_payoffs*mean(ST>K))/sqrt(nSim)\n",
    "  \n",
    "  # put option price and standard error\n",
    "  simulated_put_payoffs <- (exp(-r*tau)*pmax(K-ST,0))[ST<k] \n",
    "  price_put <- mean(simulated_put_payoffs*mean(st<k))\n",
    "  sterr_put <- sd(simulated_put_payoffs*mean(st<k))/sqrt(nSim)\n",
    "}"
   ]
  },
  {
   "cell_type": "code",
   "execution_count": null,
   "metadata": {},
   "outputs": [],
   "source": []
  }
 ],
 "metadata": {
  "language_info": {},
  "orig_nbformat": 3
 },
 "nbformat": 4,
 "nbformat_minor": 2
}