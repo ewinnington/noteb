{
 "cells": [
  {
   "cell_type": "code",
   "execution_count": null,
   "metadata": {
    "dotnet_interactive": {
     "language": "csharp"
    },
    "vscode": {
     "languageId": "dotnet-interactive.csharp"
    }
   },
   "outputs": [
    {
     "data": {
      "text/html": [
       "<div><div></div><div></div><div><strong>Installed Packages</strong><ul><li><span>System.Net.Http.Json, 6.0.0</span></li></ul></div></div>"
      ]
     },
     "metadata": {},
     "output_type": "display_data"
    }
   ],
   "source": [
    "#r \"nuget: System.Net.Http.Json, 6.0.0\""
   ]
  },
  {
   "cell_type": "code",
   "execution_count": null,
   "metadata": {
    "dotnet_interactive": {
     "language": "csharp"
    },
    "vscode": {
     "languageId": "dotnet-interactive.csharp"
    }
   },
   "outputs": [
    {
     "ename": "Error",
     "evalue": "(2,23): error CS0234: The type or namespace name 'Json' does not exist in the namespace 'System.Net.Http' (are you missing an assembly reference?)\r\n(6,16): error CS0234: The type or namespace name 'Json' does not exist in the namespace 'System.Net.Http' (are you missing an assembly reference?)",
     "output_type": "error",
     "traceback": [
      "(2,23): error CS0234: The type or namespace name 'Json' does not exist in the namespace 'System.Net.Http' (are you missing an assembly reference?)\r\n",
      "(6,16): error CS0234: The type or namespace name 'Json' does not exist in the namespace 'System.Net.Http' (are you missing an assembly reference?)"
     ]
    }
   ],
   "source": [
    "using System.Net.Http;\n",
    "using System.Net.Http.Json;\n",
    "\n",
    "var message = new HttpRequestMessage(HttpMethod.Post, \"http://postman-echo.com/post\")\n",
    "{\n",
    "    Content =  System.Net.Http.Json.JsonContent.Create(new\n",
    "    {\n",
    "        name = \"John Doe\",\n",
    "        age = 42\n",
    "    })\n",
    "};\n",
    "var response = await new HttpClient().SendAsync(message);\n",
    "\n",
    "response"
   ]
  }
 ],
 "metadata": {
  "kernelspec": {
   "display_name": ".NET (C#)",
   "language": "C#",
   "name": ".net-csharp"
  },
  "language_info": {
   "file_extension": ".cs",
   "mimetype": "text/x-csharp",
   "name": "C#",
   "pygments_lexer": "csharp",
   "version": "9.0"
  },
  "orig_nbformat": 4,
  "vscode": {
   "interpreter": {
    "hash": "ff189401cbcc55bbc67e3f9ce5b9046aa7b4c4752236dc96e578ec1b552e057f"
   }
  }
 },
 "nbformat": 4,
 "nbformat_minor": 2
}
