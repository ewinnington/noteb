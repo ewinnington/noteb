{
  "cells": [
    {
      "cell_type": "code",
      "execution_count": 1,
      "metadata": {
        "dotnet_interactive": {
          "language": "csharp"
        }
      },
      "source": [
        "#r \"nuget: Microsoft.AspNetCore.App\"\n",
        "#r \"nuget: Microsoft.NetCore.App\"\n",
        ""
      ],
      "outputs": [
        {
          "output_type": "execute_result",
          "data": {
            "text/html": "<div><div></div><div></div><div><strong>Installed Packages</strong><ul><li><span>Microsoft.NetCore.App, 2.2.8</span></li></ul></div></div>"
          },
          "execution_count": 1,
          "metadata": {}
        }
      ]
    },
    {
      "cell_type": "code",
      "execution_count": 1,
      "metadata": {
        "dotnet_interactive": {
          "language": "csharp"
        }
      },
      "source": [
        "using Microsoft.AspNetCore.Builder;\n",
        "using Microsoft.AspNetCore.Http;\n",
        "using Microsoft.Extensions.DependencyInjection;\n",
        "using System;\n",
        "using System.Linq;"
      ],
      "outputs": [
        {
          "output_type": "error",
          "ename": "",
          "evalue": "(1,28): error CS0234: The type or namespace name 'Builder' does not exist in the namespace 'Microsoft.AspNetCore' (are you missing an assembly reference?)\r\n(2,28): error CS0234: The type or namespace name 'Http' does not exist in the namespace 'Microsoft.AspNetCore' (are you missing an assembly reference?)",
          "traceback": [
            null
          ]
        }
      ]
    },
    {
      "cell_type": "code",
      "execution_count": 1,
      "metadata": {
        "dotnet_interactive": {
          "language": "csharp"
        }
      },
      "source": [
        "  public class WeatherForecast\n",
        "    {\n",
        "        public DateTime Date { get; set; }\n",
        "\n",
        "        public int TemperatureC { get; set; }\n",
        "\n",
        "        public int TemperatureF => 32 + (int)(TemperatureC / 0.5556);\n",
        "\n",
        "        public string? Summary { get; set; }\n",
        "    }"
      ],
      "outputs": []
    },
    {
      "cell_type": "code",
      "execution_count": 1,
      "metadata": {
        "dotnet_interactive": {
          "language": "csharp"
        }
      },
      "source": [
        "var builder = WebApplication.CreateBuilder();\n",
        "\n",
        "var app = builder.Build();\n",
        "\n",
        "// Configure the HTTP request pipeline.\n",
        "var summaries = new[]\n",
        "{\n",
        "\"Freezing\", \"Bracing\", \"Chilly\", \"Cool\", \"Mild\", \"Warm\", \"Balmy\", \"Hot\", \"Sweltering\", \"Scorching\"\n",
        "};\n",
        "\n",
        "app.MapGet(\"/weatherforecast\", (HttpContext httpContext) =>\n",
        "{\n",
        "\tvar forecast = Enumerable.Range(1, 5).Select(index =>\n",
        "\t\tnew WeatherForecast\n",
        "\t\t{\n",
        "\t\t\tDate = DateTime.Now.AddDays(index),\n",
        "\t\t\tTemperatureC = Random.Shared.Next(-20, 55),\n",
        "\t\t\tSummary = summaries[Random.Shared.Next(summaries.Length)]\n",
        "\t\t})\n",
        "\t\t.ToArray();\n",
        "\treturn forecast;\n",
        "});\n",
        "\n",
        "            app.Run();"
      ],
      "outputs": [
        {
          "output_type": "error",
          "ename": "",
          "evalue": "(1,15): error CS0103: The name 'WebApplication' does not exist in the current context\r\n(11,33): error CS0246: The type or namespace name 'HttpContext' could not be found (are you missing a using directive or an assembly reference?)",
          "traceback": [
            null
          ]
        }
      ]
    }
  ],
  "metadata": {
    "kernelspec": {
      "display_name": ".NET (C#)",
      "language": "C#",
      "name": ".net-csharp"
    },
    "language_info": {
      "file_extension": ".cs",
      "mimetype": "text/x-csharp",
      "name": "C#",
      "pygments_lexer": "csharp",
      "version": "8.0"
    }
  },
  "nbformat": 4,
  "nbformat_minor": 4
}