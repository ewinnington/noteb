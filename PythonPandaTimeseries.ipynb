{
 "cells": [
  {
   "cell_type": "code",
   "execution_count": 5,
   "metadata": {},
   "outputs": [],
   "source": [
    "import pandas as pd\n",
    "import numpy as np"
   ]
  },
  {
   "cell_type": "code",
   "execution_count": 3,
   "metadata": {},
   "outputs": [
    {
     "data": {
      "text/plain": [
       "Timestamp('2020-01-01 00:00:00')"
      ]
     },
     "execution_count": 3,
     "metadata": {},
     "output_type": "execute_result"
    }
   ],
   "source": [
    "date = pd.to_datetime(\"1.1.2020\")\n",
    "date"
   ]
  },
  {
   "cell_type": "code",
   "execution_count": 6,
   "metadata": {},
   "outputs": [
    {
     "data": {
      "text/plain": [
       "DatetimeIndex(['2020-01-01 00:00:00', '2020-01-01 01:00:00',\n",
       "               '2020-01-01 02:00:00', '2020-01-01 03:00:00',\n",
       "               '2020-01-01 04:00:00', '2020-01-01 05:00:00',\n",
       "               '2020-01-01 06:00:00', '2020-01-01 07:00:00',\n",
       "               '2020-01-01 08:00:00', '2020-01-01 09:00:00',\n",
       "               '2020-01-01 10:00:00', '2020-01-01 11:00:00',\n",
       "               '2020-01-01 12:00:00', '2020-01-01 13:00:00',\n",
       "               '2020-01-01 14:00:00', '2020-01-01 15:00:00',\n",
       "               '2020-01-01 16:00:00', '2020-01-01 17:00:00',\n",
       "               '2020-01-01 18:00:00', '2020-01-01 19:00:00',\n",
       "               '2020-01-01 20:00:00', '2020-01-01 21:00:00',\n",
       "               '2020-01-01 22:00:00', '2020-01-01 23:00:00',\n",
       "               '2020-01-02 00:00:00', '2020-01-02 01:00:00',\n",
       "               '2020-01-02 02:00:00', '2020-01-02 03:00:00',\n",
       "               '2020-01-02 04:00:00', '2020-01-02 05:00:00',\n",
       "               '2020-01-02 06:00:00', '2020-01-02 07:00:00',\n",
       "               '2020-01-02 08:00:00', '2020-01-02 09:00:00',\n",
       "               '2020-01-02 10:00:00', '2020-01-02 11:00:00',\n",
       "               '2020-01-02 12:00:00', '2020-01-02 13:00:00',\n",
       "               '2020-01-02 14:00:00', '2020-01-02 15:00:00',\n",
       "               '2020-01-02 16:00:00', '2020-01-02 17:00:00',\n",
       "               '2020-01-02 18:00:00', '2020-01-02 19:00:00',\n",
       "               '2020-01-02 20:00:00', '2020-01-02 21:00:00',\n",
       "               '2020-01-02 22:00:00', '2020-01-02 23:00:00',\n",
       "               '2020-01-03 00:00:00', '2020-01-03 01:00:00',\n",
       "               '2020-01-03 02:00:00', '2020-01-03 03:00:00',\n",
       "               '2020-01-03 04:00:00', '2020-01-03 05:00:00',\n",
       "               '2020-01-03 06:00:00', '2020-01-03 07:00:00',\n",
       "               '2020-01-03 08:00:00', '2020-01-03 09:00:00',\n",
       "               '2020-01-03 10:00:00', '2020-01-03 11:00:00',\n",
       "               '2020-01-03 12:00:00', '2020-01-03 13:00:00',\n",
       "               '2020-01-03 14:00:00', '2020-01-03 15:00:00',\n",
       "               '2020-01-03 16:00:00', '2020-01-03 17:00:00',\n",
       "               '2020-01-03 18:00:00', '2020-01-03 19:00:00',\n",
       "               '2020-01-03 20:00:00', '2020-01-03 21:00:00',\n",
       "               '2020-01-03 22:00:00', '2020-01-03 23:00:00'],\n",
       "              dtype='datetime64[ns]', freq=None)"
      ]
     },
     "execution_count": 6,
     "metadata": {},
     "output_type": "execute_result"
    }
   ],
   "source": [
    "date + pd.to_timedelta(np.arange(72),'H')"
   ]
  },
  {
   "cell_type": "code",
   "execution_count": 79,
   "metadata": {},
   "outputs": [],
   "source": [
    "index = date + pd.to_timedelta(np.arange(72),'H')\n",
    "index2 = pd.to_datetime(\"1.2.2020\") + pd.to_timedelta(np.arange(24),'H')"
   ]
  },
  {
   "cell_type": "code",
   "execution_count": 80,
   "metadata": {},
   "outputs": [],
   "source": [
    "s1 = (np.sin(np.divide(range(0,72),6)) * 12) + 25"
   ]
  },
  {
   "cell_type": "code",
   "execution_count": 81,
   "metadata": {},
   "outputs": [],
   "source": [
    "s2 = (np.cos(np.divide(range(0,24),8)) * 7) + 11"
   ]
  },
  {
   "cell_type": "code",
   "execution_count": 82,
   "metadata": {},
   "outputs": [],
   "source": [
    "d1 = pd.Series(s1, index=index)\n",
    "d2 = pd.Series(s2, index=index2)"
   ]
  },
  {
   "cell_type": "code",
   "execution_count": 83,
   "metadata": {},
   "outputs": [],
   "source": [
    "d3 = d1.add(d2, fill_value=0)"
   ]
  },
  {
   "cell_type": "code",
   "execution_count": 84,
   "metadata": {},
   "outputs": [
    {
     "data": {
      "text/html": [
       "<div>\n",
       "<style scoped>\n",
       "    .dataframe tbody tr th:only-of-type {\n",
       "        vertical-align: middle;\n",
       "    }\n",
       "\n",
       "    .dataframe tbody tr th {\n",
       "        vertical-align: top;\n",
       "    }\n",
       "\n",
       "    .dataframe thead th {\n",
       "        text-align: right;\n",
       "    }\n",
       "</style>\n",
       "<table border=\"1\" class=\"dataframe\">\n",
       "  <thead>\n",
       "    <tr style=\"text-align: right;\">\n",
       "      <th></th>\n",
       "      <th>0</th>\n",
       "    </tr>\n",
       "  </thead>\n",
       "  <tbody>\n",
       "    <tr>\n",
       "      <th>2020-01-01 00:00:00</th>\n",
       "      <td>25.000000</td>\n",
       "    </tr>\n",
       "    <tr>\n",
       "      <th>2020-01-01 01:00:00</th>\n",
       "      <td>26.990754</td>\n",
       "    </tr>\n",
       "    <tr>\n",
       "      <th>2020-01-01 02:00:00</th>\n",
       "      <td>28.926336</td>\n",
       "    </tr>\n",
       "    <tr>\n",
       "      <th>2020-01-01 03:00:00</th>\n",
       "      <td>30.753106</td>\n",
       "    </tr>\n",
       "    <tr>\n",
       "      <th>2020-01-01 04:00:00</th>\n",
       "      <td>32.420438</td>\n",
       "    </tr>\n",
       "    <tr>\n",
       "      <th>...</th>\n",
       "      <td>...</td>\n",
       "    </tr>\n",
       "    <tr>\n",
       "      <th>2020-01-03 19:00:00</th>\n",
       "      <td>13.175208</td>\n",
       "    </tr>\n",
       "    <tr>\n",
       "      <th>2020-01-03 20:00:00</th>\n",
       "      <td>13.678004</td>\n",
       "    </tr>\n",
       "    <tr>\n",
       "      <th>2020-01-03 21:00:00</th>\n",
       "      <td>14.494574</td>\n",
       "    </tr>\n",
       "    <tr>\n",
       "      <th>2020-01-03 22:00:00</th>\n",
       "      <td>15.602286</td>\n",
       "    </tr>\n",
       "    <tr>\n",
       "      <th>2020-01-03 23:00:00</th>\n",
       "      <td>16.970442</td>\n",
       "    </tr>\n",
       "  </tbody>\n",
       "</table>\n",
       "<p>72 rows × 1 columns</p>\n",
       "</div>"
      ],
      "text/plain": [
       "                             0\n",
       "2020-01-01 00:00:00  25.000000\n",
       "2020-01-01 01:00:00  26.990754\n",
       "2020-01-01 02:00:00  28.926336\n",
       "2020-01-01 03:00:00  30.753106\n",
       "2020-01-01 04:00:00  32.420438\n",
       "...                        ...\n",
       "2020-01-03 19:00:00  13.175208\n",
       "2020-01-03 20:00:00  13.678004\n",
       "2020-01-03 21:00:00  14.494574\n",
       "2020-01-03 22:00:00  15.602286\n",
       "2020-01-03 23:00:00  16.970442\n",
       "\n",
       "[72 rows x 1 columns]"
      ]
     },
     "execution_count": 84,
     "metadata": {},
     "output_type": "execute_result"
    }
   ],
   "source": [
    "pd.DataFrame(d3)"
   ]
  },
  {
   "cell_type": "code",
   "execution_count": 85,
   "metadata": {},
   "outputs": [
    {
     "data": {
      "text/plain": [
       "2020-01-01 00:00:00    25.000000\n",
       "2020-01-01 01:00:00    26.990754\n",
       "2020-01-01 02:00:00    28.926336\n",
       "2020-01-01 03:00:00    30.753106\n",
       "2020-01-01 04:00:00    32.420438\n",
       "                         ...    \n",
       "2020-01-03 19:00:00    13.175208\n",
       "2020-01-03 20:00:00    13.678004\n",
       "2020-01-03 21:00:00    14.494574\n",
       "2020-01-03 22:00:00    15.602286\n",
       "2020-01-03 23:00:00    16.970442\n",
       "Length: 72, dtype: float64"
      ]
     },
     "execution_count": 85,
     "metadata": {},
     "output_type": "execute_result"
    }
   ],
   "source": [
    "d3"
   ]
  }
 ],
 "metadata": {
  "kernelspec": {
   "display_name": "Python 3",
   "language": "python",
   "name": "python3"
  },
  "language_info": {
   "codemirror_mode": {
    "name": "ipython",
    "version": 3
   },
   "file_extension": ".py",
   "mimetype": "text/x-python",
   "name": "python",
   "nbconvert_exporter": "python",
   "pygments_lexer": "ipython3",
   "version": "3.7.4"
  }
 },
 "nbformat": 4,
 "nbformat_minor": 2
}
